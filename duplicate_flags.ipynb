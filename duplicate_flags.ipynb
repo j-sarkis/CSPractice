{
 "cells": [
  {
   "cell_type": "code",
   "execution_count": 1,
   "metadata": {},
   "outputs": [],
   "source": [
    "# Joey's first pass\n",
    "import pandas as pd\n",
    "from random import randint\n",
    "import numpy as np\n",
    "\n",
    "def find_duplicates(x):\n",
    "    bool_list = []\n",
    "    for i in range(len(x)):\n",
    "        if i == 0: \n",
    "            bool_list.append(True)\n",
    "        else:\n",
    "            if x[i] == 1 and x[i-1] == 1:\n",
    "                bool_list.append(False) \n",
    "            else:\n",
    "                bool_list.append(True)\n",
    "    return bool_list\n",
    "\n",
    "churn_data = {\"Cust\" : [477 for i in range(10)], \"flag\": [0,0,1,1,0,1,0,1,1,1]}\n",
    "df = pd.DataFrame(data=churn_data,index=pd.date_range(start='1/1/2018', end='1/10/2018'))\n",
    "df.loc[:,'duplicate_flg'] = find_duplicates(df.flag)"
   ]
  },
  {
   "cell_type": "code",
   "execution_count": 2,
   "metadata": {},
   "outputs": [],
   "source": [
    "# take 2 - scaling up!  How do you deal with multiple customers, production dataset is 2m rows!\n",
    "def build_rand_dataset(max_num_custs=10000, max_rec_per_cust=200):\n",
    "    # 500 customers with max of 24 rows will build 12k rows dataset\n",
    "    dataset = []\n",
    "    for cust in range(0,max_num_custs):\n",
    "        # create fake customer number that is always 7 digits\n",
    "        cust_num = str(randint(0,1000)).zfill(7)\n",
    "        # create random number of records\n",
    "        num_records = randint(0,max_rec_per_cust)\n",
    "        # build fake customer data\n",
    "        data = {'cust_num': [cust_num for i in range(0,num_records)],\n",
    "                'dates': pd.date_range(periods=num_records,freq='D',start='2021-01-01'),\n",
    "                'flag': [randint(0,1) for x in range(0,num_records)]}\n",
    "        # build dataframe & sotre\n",
    "        dataset.append(pd.DataFrame(data))\n",
    "    return pd.concat(dataset)"
   ]
  },
  {
   "cell_type": "code",
   "execution_count": null,
   "metadata": {
    "scrolled": false
   },
   "outputs": [],
   "source": [
    "# creating random dataset - max of 2 million rows (10,000 cust & 200 records each)\n",
    "test_data = build_rand_dataset()\n",
    "test_data"
   ]
  },
  {
   "cell_type": "code",
   "execution_count": null,
   "metadata": {
    "scrolled": true
   },
   "outputs": [],
   "source": [
    "# lagging flag column and partitioning by cust_num to allow for row comparison; \n",
    "# imputing nan in lagged column with 0 since it's first value of partitions, so it will never be a dupe\n",
    "test_data['lagged_flag'] = test_data.groupby(['cust_num'])['flag'].shift(1)\n",
    "test_data['lagged_flag'].fillna(0,inplace=True)\n",
    "test_data"
   ]
  },
  {
   "cell_type": "code",
   "execution_count": null,
   "metadata": {},
   "outputs": [],
   "source": [
    "# converting flag and lagged_flag columns to vectors for faster runtime when comparing instead of looping\n",
    "flag = np.array(test_data['flag'])\n",
    "lagged_flag = np.array(test_data['lagged_flag'])\n",
    "lagged_flag, flag"
   ]
  },
  {
   "cell_type": "code",
   "execution_count": null,
   "metadata": {
    "scrolled": true
   },
   "outputs": [],
   "source": [
    "# if their sum is 2, then both must be 1, and anything else would be a 0-0, 1-0, or 0-1 combination\n",
    "# so we remove all rows with a sum of 2 for these columns\n",
    "test_data = test_data[flag + lagged_flag < 2]\n",
    "test_data"
   ]
  }
 ],
 "metadata": {
  "kernelspec": {
   "display_name": "Python 3",
   "language": "python",
   "name": "python3"
  },
  "language_info": {
   "codemirror_mode": {
    "name": "ipython",
    "version": 3
   },
   "file_extension": ".py",
   "mimetype": "text/x-python",
   "name": "python",
   "nbconvert_exporter": "python",
   "pygments_lexer": "ipython3",
   "version": "3.8.8"
  }
 },
 "nbformat": 4,
 "nbformat_minor": 2
}
